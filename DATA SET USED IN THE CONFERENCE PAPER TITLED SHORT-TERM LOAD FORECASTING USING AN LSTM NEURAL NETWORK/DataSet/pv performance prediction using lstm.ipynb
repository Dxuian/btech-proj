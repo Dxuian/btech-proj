{
 "cells": [
  {
   "cell_type": "code",
   "execution_count": 1,
   "id": "4501a984-2021-49e0-857d-0f1511a51ae8",
   "metadata": {},
   "outputs": [
    {
     "name": "stdout",
     "output_type": "stream",
     "text": [
      "Defaulting to user installation because normal site-packages is not writeable\n",
      "Requirement already satisfied: pandas in c:\\users\\death\\appdata\\roaming\\python\\python312\\site-packages (2.2.3)\n",
      "Requirement already satisfied: numpy in c:\\users\\death\\appdata\\roaming\\python\\python312\\site-packages (1.26.4)\n",
      "Requirement already satisfied: tensorflow in c:\\users\\death\\appdata\\roaming\\python\\python312\\site-packages (2.17.0)\n",
      "Requirement already satisfied: scikit-learn in c:\\users\\death\\appdata\\roaming\\python\\python312\\site-packages (1.5.2)\n",
      "Requirement already satisfied: matplotlib in c:\\users\\death\\appdata\\roaming\\python\\python312\\site-packages (3.9.2)\n",
      "Requirement already satisfied: openpyxl in c:\\users\\death\\appdata\\roaming\\python\\python312\\site-packages (3.1.5)\n",
      "Requirement already satisfied: python-dateutil>=2.8.2 in c:\\users\\death\\appdata\\roaming\\python\\python312\\site-packages (from pandas) (2.9.0.post0)\n",
      "Requirement already satisfied: pytz>=2020.1 in c:\\users\\death\\appdata\\roaming\\python\\python312\\site-packages (from pandas) (2024.2)\n",
      "Requirement already satisfied: tzdata>=2022.7 in c:\\users\\death\\appdata\\roaming\\python\\python312\\site-packages (from pandas) (2024.2)\n",
      "Requirement already satisfied: tensorflow-intel==2.17.0 in c:\\users\\death\\appdata\\roaming\\python\\python312\\site-packages (from tensorflow) (2.17.0)\n",
      "Requirement already satisfied: absl-py>=1.0.0 in c:\\users\\death\\appdata\\roaming\\python\\python312\\site-packages (from tensorflow-intel==2.17.0->tensorflow) (2.1.0)\n",
      "Requirement already satisfied: astunparse>=1.6.0 in c:\\users\\death\\appdata\\roaming\\python\\python312\\site-packages (from tensorflow-intel==2.17.0->tensorflow) (1.6.3)\n",
      "Requirement already satisfied: flatbuffers>=24.3.25 in c:\\users\\death\\appdata\\roaming\\python\\python312\\site-packages (from tensorflow-intel==2.17.0->tensorflow) (24.3.25)\n",
      "Requirement already satisfied: gast!=0.5.0,!=0.5.1,!=0.5.2,>=0.2.1 in c:\\users\\death\\appdata\\roaming\\python\\python312\\site-packages (from tensorflow-intel==2.17.0->tensorflow) (0.6.0)\n",
      "Requirement already satisfied: google-pasta>=0.1.1 in c:\\users\\death\\appdata\\roaming\\python\\python312\\site-packages (from tensorflow-intel==2.17.0->tensorflow) (0.2.0)\n",
      "Requirement already satisfied: h5py>=3.10.0 in c:\\users\\death\\appdata\\roaming\\python\\python312\\site-packages (from tensorflow-intel==2.17.0->tensorflow) (3.12.1)\n",
      "Requirement already satisfied: libclang>=13.0.0 in c:\\users\\death\\appdata\\roaming\\python\\python312\\site-packages (from tensorflow-intel==2.17.0->tensorflow) (18.1.1)\n",
      "Requirement already satisfied: ml-dtypes<0.5.0,>=0.3.1 in c:\\users\\death\\appdata\\roaming\\python\\python312\\site-packages (from tensorflow-intel==2.17.0->tensorflow) (0.4.1)\n",
      "Requirement already satisfied: opt-einsum>=2.3.2 in c:\\users\\death\\appdata\\roaming\\python\\python312\\site-packages (from tensorflow-intel==2.17.0->tensorflow) (3.4.0)\n",
      "Requirement already satisfied: packaging in c:\\users\\death\\appdata\\roaming\\python\\python312\\site-packages (from tensorflow-intel==2.17.0->tensorflow) (24.1)\n",
      "Requirement already satisfied: protobuf!=4.21.0,!=4.21.1,!=4.21.2,!=4.21.3,!=4.21.4,!=4.21.5,<5.0.0dev,>=3.20.3 in c:\\users\\death\\appdata\\roaming\\python\\python312\\site-packages (from tensorflow-intel==2.17.0->tensorflow) (4.25.5)\n",
      "Requirement already satisfied: requests<3,>=2.21.0 in c:\\users\\death\\appdata\\roaming\\python\\python312\\site-packages (from tensorflow-intel==2.17.0->tensorflow) (2.32.3)\n",
      "Requirement already satisfied: setuptools in c:\\users\\death\\appdata\\roaming\\python\\python312\\site-packages (from tensorflow-intel==2.17.0->tensorflow) (75.1.0)\n",
      "Requirement already satisfied: six>=1.12.0 in c:\\users\\death\\appdata\\roaming\\python\\python312\\site-packages (from tensorflow-intel==2.17.0->tensorflow) (1.16.0)\n",
      "Requirement already satisfied: termcolor>=1.1.0 in c:\\users\\death\\appdata\\roaming\\python\\python312\\site-packages (from tensorflow-intel==2.17.0->tensorflow) (2.5.0)\n",
      "Requirement already satisfied: typing-extensions>=3.6.6 in c:\\users\\death\\appdata\\roaming\\python\\python312\\site-packages (from tensorflow-intel==2.17.0->tensorflow) (4.12.2)\n",
      "Requirement already satisfied: wrapt>=1.11.0 in c:\\users\\death\\appdata\\roaming\\python\\python312\\site-packages (from tensorflow-intel==2.17.0->tensorflow) (1.16.0)\n",
      "Requirement already satisfied: grpcio<2.0,>=1.24.3 in c:\\users\\death\\appdata\\roaming\\python\\python312\\site-packages (from tensorflow-intel==2.17.0->tensorflow) (1.66.2)\n",
      "Requirement already satisfied: tensorboard<2.18,>=2.17 in c:\\users\\death\\appdata\\roaming\\python\\python312\\site-packages (from tensorflow-intel==2.17.0->tensorflow) (2.17.1)\n",
      "Requirement already satisfied: keras>=3.2.0 in c:\\users\\death\\appdata\\roaming\\python\\python312\\site-packages (from tensorflow-intel==2.17.0->tensorflow) (3.6.0)\n",
      "Requirement already satisfied: scipy>=1.6.0 in c:\\users\\death\\appdata\\roaming\\python\\python312\\site-packages (from scikit-learn) (1.14.1)\n",
      "Requirement already satisfied: joblib>=1.2.0 in c:\\users\\death\\appdata\\roaming\\python\\python312\\site-packages (from scikit-learn) (1.4.2)\n",
      "Requirement already satisfied: threadpoolctl>=3.1.0 in c:\\users\\death\\appdata\\roaming\\python\\python312\\site-packages (from scikit-learn) (3.5.0)\n",
      "Requirement already satisfied: contourpy>=1.0.1 in c:\\users\\death\\appdata\\roaming\\python\\python312\\site-packages (from matplotlib) (1.3.0)\n",
      "Requirement already satisfied: cycler>=0.10 in c:\\users\\death\\appdata\\roaming\\python\\python312\\site-packages (from matplotlib) (0.12.1)\n",
      "Requirement already satisfied: fonttools>=4.22.0 in c:\\users\\death\\appdata\\roaming\\python\\python312\\site-packages (from matplotlib) (4.54.1)\n",
      "Requirement already satisfied: kiwisolver>=1.3.1 in c:\\users\\death\\appdata\\roaming\\python\\python312\\site-packages (from matplotlib) (1.4.7)\n",
      "Requirement already satisfied: pillow>=8 in c:\\users\\death\\appdata\\roaming\\python\\python312\\site-packages (from matplotlib) (10.4.0)\n",
      "Requirement already satisfied: pyparsing>=2.3.1 in c:\\users\\death\\appdata\\roaming\\python\\python312\\site-packages (from matplotlib) (3.1.4)\n",
      "Requirement already satisfied: et-xmlfile in c:\\users\\death\\appdata\\roaming\\python\\python312\\site-packages (from openpyxl) (1.1.0)\n",
      "Requirement already satisfied: wheel<1.0,>=0.23.0 in c:\\users\\death\\appdata\\roaming\\python\\python312\\site-packages (from astunparse>=1.6.0->tensorflow-intel==2.17.0->tensorflow) (0.44.0)\n",
      "Requirement already satisfied: rich in c:\\users\\death\\appdata\\roaming\\python\\python312\\site-packages (from keras>=3.2.0->tensorflow-intel==2.17.0->tensorflow) (13.9.1)\n",
      "Requirement already satisfied: namex in c:\\users\\death\\appdata\\roaming\\python\\python312\\site-packages (from keras>=3.2.0->tensorflow-intel==2.17.0->tensorflow) (0.0.8)\n",
      "Requirement already satisfied: optree in c:\\users\\death\\appdata\\roaming\\python\\python312\\site-packages (from keras>=3.2.0->tensorflow-intel==2.17.0->tensorflow) (0.13.0)\n",
      "Requirement already satisfied: charset-normalizer<4,>=2 in c:\\users\\death\\appdata\\roaming\\python\\python312\\site-packages (from requests<3,>=2.21.0->tensorflow-intel==2.17.0->tensorflow) (3.4.0)\n",
      "Requirement already satisfied: idna<4,>=2.5 in c:\\users\\death\\appdata\\roaming\\python\\python312\\site-packages (from requests<3,>=2.21.0->tensorflow-intel==2.17.0->tensorflow) (3.10)\n",
      "Requirement already satisfied: urllib3<3,>=1.21.1 in c:\\users\\death\\appdata\\roaming\\python\\python312\\site-packages (from requests<3,>=2.21.0->tensorflow-intel==2.17.0->tensorflow) (2.2.3)\n",
      "Requirement already satisfied: certifi>=2017.4.17 in c:\\users\\death\\appdata\\roaming\\python\\python312\\site-packages (from requests<3,>=2.21.0->tensorflow-intel==2.17.0->tensorflow) (2024.8.30)\n",
      "Requirement already satisfied: markdown>=2.6.8 in c:\\users\\death\\appdata\\roaming\\python\\python312\\site-packages (from tensorboard<2.18,>=2.17->tensorflow-intel==2.17.0->tensorflow) (3.7)\n",
      "Requirement already satisfied: tensorboard-data-server<0.8.0,>=0.7.0 in c:\\users\\death\\appdata\\roaming\\python\\python312\\site-packages (from tensorboard<2.18,>=2.17->tensorflow-intel==2.17.0->tensorflow) (0.7.2)\n",
      "Requirement already satisfied: werkzeug>=1.0.1 in c:\\users\\death\\appdata\\roaming\\python\\python312\\site-packages (from tensorboard<2.18,>=2.17->tensorflow-intel==2.17.0->tensorflow) (3.0.4)\n",
      "Requirement already satisfied: MarkupSafe>=2.1.1 in c:\\users\\death\\appdata\\roaming\\python\\python312\\site-packages (from werkzeug>=1.0.1->tensorboard<2.18,>=2.17->tensorflow-intel==2.17.0->tensorflow) (3.0.1)\n",
      "Requirement already satisfied: markdown-it-py>=2.2.0 in c:\\users\\death\\appdata\\roaming\\python\\python312\\site-packages (from rich->keras>=3.2.0->tensorflow-intel==2.17.0->tensorflow) (3.0.0)\n",
      "Requirement already satisfied: pygments<3.0.0,>=2.13.0 in c:\\users\\death\\appdata\\roaming\\python\\python312\\site-packages (from rich->keras>=3.2.0->tensorflow-intel==2.17.0->tensorflow) (2.18.0)\n",
      "Requirement already satisfied: mdurl~=0.1 in c:\\users\\death\\appdata\\roaming\\python\\python312\\site-packages (from markdown-it-py>=2.2.0->rich->keras>=3.2.0->tensorflow-intel==2.17.0->tensorflow) (0.1.2)\n",
      "Note: you may need to restart the kernel to use updated packages.\n"
     ]
    }
   ],
   "source": [
    "pip install pandas numpy tensorflow scikit-learn matplotlib openpyxl"
   ]
  },
  {
   "cell_type": "code",
   "execution_count": 2,
   "id": "e8c552ff-ff7e-4a35-8975-4ca9940abe37",
   "metadata": {},
   "outputs": [],
   "source": [
    "import pandas as pd\n",
    "import numpy as np\n",
    "from sklearn.preprocessing import MinMaxScaler , StandardScaler\n",
    "from tensorflow.keras.models import Sequential\n",
    "from tensorflow.keras.layers import LSTM, Dense, Dropout\n",
    "from sklearn.metrics import mean_absolute_error, mean_squared_error\n",
    "import matplotlib.pyplot as plt"
   ]
  },
  {
   "cell_type": "code",
   "execution_count": 3,
   "id": "6acd01e4-d53d-41f0-875f-c4e869018d74",
   "metadata": {},
   "outputs": [],
   "source": [
    "load_data = pd.read_excel('LoadTexasERCOT.xlsx')\n",
    "weather_station1 = pd.read_excel('WeatherStation1.xlsx')\n",
    "weather_station3 = pd.read_excel('WeatherStation3.xlsx')"
   ]
  },
  {
   "cell_type": "code",
   "execution_count": 4,
   "id": "24de8ca1-22fc-466c-a813-72b20d78277e",
   "metadata": {},
   "outputs": [
    {
     "data": {
      "text/plain": [
       "((35064, 10), (35064, 8), (35064, 8))"
      ]
     },
     "execution_count": 4,
     "metadata": {},
     "output_type": "execute_result"
    }
   ],
   "source": [
    "load_data.shape, weather_station1.shape,weather_station3.shape"
   ]
  },
  {
   "cell_type": "code",
   "execution_count": 5,
   "id": "465918f0-8d10-4ba0-8947-09e6e0fd07fd",
   "metadata": {},
   "outputs": [
    {
     "data": {
      "text/plain": [
       "(   Year  Month  Day  Hour  Minute  Relative Humidity  Temperature  Pressure\n",
       " 0  2012      1    1     0      30              39.19            6       950\n",
       " 1  2012      1    1     1      30              44.45            5       950\n",
       " 2  2012      1    1     2      30              53.94            4       950\n",
       " 3  2012      1    1     3      30              63.77            2       960\n",
       " 4  2012      1    1     4      30              71.93            2       960,\n",
       "    Year  Month  Day  Hour  Minute  Relative Humidity  Temperature  Pressure\n",
       " 0  2012      1    1     0      30              42.80            6       960\n",
       " 1  2012      1    1     1      30              56.15            5       960\n",
       " 2  2012      1    1     2      30              63.72            3       960\n",
       " 3  2012      1    1     3      30              69.80            2       960\n",
       " 4  2012      1    1     4      30              74.92            1       970,\n",
       "                  Hour_End        COAST        EAST     FAR_WEST       NORTH  \\\n",
       " 0 2012-01-01 01:00:00.003  7748.160500  878.438488  1289.746813  652.153054   \n",
       " 1 2012-01-01 01:59:59.997  7559.728089  839.092904  1294.272245  643.483530   \n",
       " 2 2012-01-01 03:00:00.000  7337.789042  817.995707  1296.491345  631.940923   \n",
       " 3 2012-01-01 04:00:00.003  7161.895539  814.967883  1297.417294  631.428520   \n",
       " 4 2012-01-01 04:59:59.997  6984.460743  843.952579  1309.534911  640.892563   \n",
       " \n",
       "        NORTH_C     SOUTHERN      SOUTH_C        WEST         ERCOT  \n",
       " 0  8648.989316  2105.379142  4162.162310  849.000892  26334.030515  \n",
       " 1  8553.212708  2047.755534  4070.416593  845.097363  25853.058967  \n",
       " 2  8461.317967  1961.909818  3946.994332  840.902848  25295.341984  \n",
       " 3  8438.693857  1893.148232  3884.929253  845.452257  24967.932835  \n",
       " 4  8565.433348  1867.358425  3911.610238  862.369386  24985.612193  )"
      ]
     },
     "execution_count": 5,
     "metadata": {},
     "output_type": "execute_result"
    }
   ],
   "source": [
    "weather_station1.head(), weather_station3.head(), load_data.head()"
   ]
  },
  {
   "cell_type": "code",
   "execution_count": 6,
   "id": "dc7ceb48-703d-4660-889d-71b61706f88e",
   "metadata": {},
   "outputs": [],
   "source": [
    "load_data['Hour_End'] = pd.to_datetime(load_data['Hour_End'])\n",
    "weather_station1['DateTime'] = pd.to_datetime(weather_station1[['Year', 'Month', 'Day', 'Hour']])\n",
    "weather_station3['DateTime'] = pd.to_datetime(weather_station3[['Year', 'Month', 'Day', 'Hour']])\n",
    "weather_station1.drop(['Year', 'Month', 'Day', 'Hour'], axis=1, inplace=True)\n",
    "weather_station3.drop(['Year', 'Month', 'Day', 'Hour'], axis=1, inplace=True)"
   ]
  },
  {
   "cell_type": "code",
   "execution_count": 7,
   "id": "33100b80",
   "metadata": {},
   "outputs": [
    {
     "data": {
      "text/plain": [
       "(   Minute  Relative Humidity  Temperature  Pressure            DateTime\n",
       " 0      30              39.19            6       950 2012-01-01 00:00:00\n",
       " 1      30              44.45            5       950 2012-01-01 01:00:00\n",
       " 2      30              53.94            4       950 2012-01-01 02:00:00\n",
       " 3      30              63.77            2       960 2012-01-01 03:00:00\n",
       " 4      30              71.93            2       960 2012-01-01 04:00:00,\n",
       "    Minute  Relative Humidity  Temperature  Pressure            DateTime\n",
       " 0      30              42.80            6       960 2012-01-01 00:00:00\n",
       " 1      30              56.15            5       960 2012-01-01 01:00:00\n",
       " 2      30              63.72            3       960 2012-01-01 02:00:00\n",
       " 3      30              69.80            2       960 2012-01-01 03:00:00\n",
       " 4      30              74.92            1       970 2012-01-01 04:00:00,\n",
       "                  Hour_End        COAST        EAST     FAR_WEST       NORTH  \\\n",
       " 0 2012-01-01 01:00:00.003  7748.160500  878.438488  1289.746813  652.153054   \n",
       " 1 2012-01-01 01:59:59.997  7559.728089  839.092904  1294.272245  643.483530   \n",
       " 2 2012-01-01 03:00:00.000  7337.789042  817.995707  1296.491345  631.940923   \n",
       " 3 2012-01-01 04:00:00.003  7161.895539  814.967883  1297.417294  631.428520   \n",
       " 4 2012-01-01 04:59:59.997  6984.460743  843.952579  1309.534911  640.892563   \n",
       " \n",
       "        NORTH_C     SOUTHERN      SOUTH_C        WEST         ERCOT  \n",
       " 0  8648.989316  2105.379142  4162.162310  849.000892  26334.030515  \n",
       " 1  8553.212708  2047.755534  4070.416593  845.097363  25853.058967  \n",
       " 2  8461.317967  1961.909818  3946.994332  840.902848  25295.341984  \n",
       " 3  8438.693857  1893.148232  3884.929253  845.452257  24967.932835  \n",
       " 4  8565.433348  1867.358425  3911.610238  862.369386  24985.612193  )"
      ]
     },
     "execution_count": 7,
     "metadata": {},
     "output_type": "execute_result"
    }
   ],
   "source": [
    "weather_station1.head(), weather_station3.head(), load_data.head()"
   ]
  },
  {
   "cell_type": "code",
   "execution_count": 8,
   "id": "de8a4d6d-3833-482e-917b-7b500456387c",
   "metadata": {},
   "outputs": [],
   "source": [
    "merged_data = pd.merge(load_data, weather_station1, left_on='Hour_End', right_on='DateTime')\n",
    "merged_data = pd.merge(merged_data, weather_station3, left_on='Hour_End', right_on='DateTime', suffixes=('_w1', '_w3'))"
   ]
  },
  {
   "cell_type": "code",
   "execution_count": 9,
   "id": "b0cda669-fa0e-400d-9b28-6fa928a64911",
   "metadata": {},
   "outputs": [
    {
     "data": {
      "text/html": [
       "<div>\n",
       "<style scoped>\n",
       "    .dataframe tbody tr th:only-of-type {\n",
       "        vertical-align: middle;\n",
       "    }\n",
       "\n",
       "    .dataframe tbody tr th {\n",
       "        vertical-align: top;\n",
       "    }\n",
       "\n",
       "    .dataframe thead th {\n",
       "        text-align: right;\n",
       "    }\n",
       "</style>\n",
       "<table border=\"1\" class=\"dataframe\">\n",
       "  <thead>\n",
       "    <tr style=\"text-align: right;\">\n",
       "      <th></th>\n",
       "      <th>Hour_End</th>\n",
       "      <th>COAST</th>\n",
       "      <th>EAST</th>\n",
       "      <th>FAR_WEST</th>\n",
       "      <th>NORTH</th>\n",
       "      <th>NORTH_C</th>\n",
       "      <th>SOUTHERN</th>\n",
       "      <th>SOUTH_C</th>\n",
       "      <th>WEST</th>\n",
       "      <th>ERCOT</th>\n",
       "      <th>Minute_w1</th>\n",
       "      <th>Relative Humidity_w1</th>\n",
       "      <th>Temperature_w1</th>\n",
       "      <th>Pressure_w1</th>\n",
       "      <th>DateTime_w1</th>\n",
       "      <th>Minute_w3</th>\n",
       "      <th>Relative Humidity_w3</th>\n",
       "      <th>Temperature_w3</th>\n",
       "      <th>Pressure_w3</th>\n",
       "      <th>DateTime_w3</th>\n",
       "    </tr>\n",
       "  </thead>\n",
       "  <tbody>\n",
       "    <tr>\n",
       "      <th>0</th>\n",
       "      <td>2012-01-01 03:00:00</td>\n",
       "      <td>7337.789042</td>\n",
       "      <td>817.995707</td>\n",
       "      <td>1296.491345</td>\n",
       "      <td>631.940923</td>\n",
       "      <td>8461.317967</td>\n",
       "      <td>1961.909818</td>\n",
       "      <td>3946.994332</td>\n",
       "      <td>840.902848</td>\n",
       "      <td>25295.341984</td>\n",
       "      <td>30</td>\n",
       "      <td>63.77</td>\n",
       "      <td>2</td>\n",
       "      <td>960</td>\n",
       "      <td>2012-01-01 03:00:00</td>\n",
       "      <td>30</td>\n",
       "      <td>69.80</td>\n",
       "      <td>2</td>\n",
       "      <td>960</td>\n",
       "      <td>2012-01-01 03:00:00</td>\n",
       "    </tr>\n",
       "    <tr>\n",
       "      <th>1</th>\n",
       "      <td>2012-01-01 06:00:00</td>\n",
       "      <td>6852.747302</td>\n",
       "      <td>883.708533</td>\n",
       "      <td>1329.677512</td>\n",
       "      <td>662.237775</td>\n",
       "      <td>8880.412604</td>\n",
       "      <td>1874.075024</td>\n",
       "      <td>4037.150795</td>\n",
       "      <td>892.341115</td>\n",
       "      <td>25412.350661</td>\n",
       "      <td>30</td>\n",
       "      <td>79.76</td>\n",
       "      <td>0</td>\n",
       "      <td>960</td>\n",
       "      <td>2012-01-01 06:00:00</td>\n",
       "      <td>30</td>\n",
       "      <td>75.63</td>\n",
       "      <td>0</td>\n",
       "      <td>970</td>\n",
       "      <td>2012-01-01 06:00:00</td>\n",
       "    </tr>\n",
       "    <tr>\n",
       "      <th>2</th>\n",
       "      <td>2012-01-01 09:00:00</td>\n",
       "      <td>6855.467450</td>\n",
       "      <td>1023.689606</td>\n",
       "      <td>1385.977171</td>\n",
       "      <td>732.202793</td>\n",
       "      <td>10033.068791</td>\n",
       "      <td>2087.598732</td>\n",
       "      <td>4570.655862</td>\n",
       "      <td>1009.202331</td>\n",
       "      <td>27697.862737</td>\n",
       "      <td>30</td>\n",
       "      <td>48.63</td>\n",
       "      <td>6</td>\n",
       "      <td>960</td>\n",
       "      <td>2012-01-01 09:00:00</td>\n",
       "      <td>30</td>\n",
       "      <td>45.26</td>\n",
       "      <td>6</td>\n",
       "      <td>970</td>\n",
       "      <td>2012-01-01 09:00:00</td>\n",
       "    </tr>\n",
       "    <tr>\n",
       "      <th>3</th>\n",
       "      <td>2012-01-01 12:00:00</td>\n",
       "      <td>7693.585339</td>\n",
       "      <td>974.715669</td>\n",
       "      <td>1362.688806</td>\n",
       "      <td>713.185070</td>\n",
       "      <td>9879.117595</td>\n",
       "      <td>2307.264867</td>\n",
       "      <td>4765.119321</td>\n",
       "      <td>964.065395</td>\n",
       "      <td>28659.742062</td>\n",
       "      <td>30</td>\n",
       "      <td>25.26</td>\n",
       "      <td>12</td>\n",
       "      <td>960</td>\n",
       "      <td>2012-01-01 12:00:00</td>\n",
       "      <td>30</td>\n",
       "      <td>29.36</td>\n",
       "      <td>12</td>\n",
       "      <td>970</td>\n",
       "      <td>2012-01-01 12:00:00</td>\n",
       "    </tr>\n",
       "    <tr>\n",
       "      <th>4</th>\n",
       "      <td>2012-01-01 15:00:00</td>\n",
       "      <td>7700.107915</td>\n",
       "      <td>921.311601</td>\n",
       "      <td>1302.391474</td>\n",
       "      <td>672.284213</td>\n",
       "      <td>9320.712487</td>\n",
       "      <td>2253.088829</td>\n",
       "      <td>4533.564483</td>\n",
       "      <td>895.595594</td>\n",
       "      <td>27599.056595</td>\n",
       "      <td>30</td>\n",
       "      <td>23.44</td>\n",
       "      <td>12</td>\n",
       "      <td>960</td>\n",
       "      <td>2012-01-01 15:00:00</td>\n",
       "      <td>30</td>\n",
       "      <td>27.66</td>\n",
       "      <td>11</td>\n",
       "      <td>970</td>\n",
       "      <td>2012-01-01 15:00:00</td>\n",
       "    </tr>\n",
       "    <tr>\n",
       "      <th>...</th>\n",
       "      <td>...</td>\n",
       "      <td>...</td>\n",
       "      <td>...</td>\n",
       "      <td>...</td>\n",
       "      <td>...</td>\n",
       "      <td>...</td>\n",
       "      <td>...</td>\n",
       "      <td>...</td>\n",
       "      <td>...</td>\n",
       "      <td>...</td>\n",
       "      <td>...</td>\n",
       "      <td>...</td>\n",
       "      <td>...</td>\n",
       "      <td>...</td>\n",
       "      <td>...</td>\n",
       "      <td>...</td>\n",
       "      <td>...</td>\n",
       "      <td>...</td>\n",
       "      <td>...</td>\n",
       "      <td>...</td>\n",
       "    </tr>\n",
       "    <tr>\n",
       "      <th>11682</th>\n",
       "      <td>2015-12-31 09:00:00</td>\n",
       "      <td>10105.650088</td>\n",
       "      <td>1524.898001</td>\n",
       "      <td>2170.506827</td>\n",
       "      <td>942.371091</td>\n",
       "      <td>14767.295991</td>\n",
       "      <td>3049.009470</td>\n",
       "      <td>6589.495961</td>\n",
       "      <td>1366.707739</td>\n",
       "      <td>40515.935167</td>\n",
       "      <td>30</td>\n",
       "      <td>95.18</td>\n",
       "      <td>4</td>\n",
       "      <td>950</td>\n",
       "      <td>2015-12-31 09:00:00</td>\n",
       "      <td>30</td>\n",
       "      <td>100.00</td>\n",
       "      <td>1</td>\n",
       "      <td>960</td>\n",
       "      <td>2015-12-31 09:00:00</td>\n",
       "    </tr>\n",
       "    <tr>\n",
       "      <th>11683</th>\n",
       "      <td>2015-12-31 12:00:00</td>\n",
       "      <td>10303.961071</td>\n",
       "      <td>1396.724156</td>\n",
       "      <td>2118.313650</td>\n",
       "      <td>878.926194</td>\n",
       "      <td>13089.338839</td>\n",
       "      <td>3165.359246</td>\n",
       "      <td>6182.120369</td>\n",
       "      <td>1309.101953</td>\n",
       "      <td>38443.845478</td>\n",
       "      <td>30</td>\n",
       "      <td>86.81</td>\n",
       "      <td>7</td>\n",
       "      <td>950</td>\n",
       "      <td>2015-12-31 12:00:00</td>\n",
       "      <td>30</td>\n",
       "      <td>96.39</td>\n",
       "      <td>4</td>\n",
       "      <td>960</td>\n",
       "      <td>2015-12-31 12:00:00</td>\n",
       "    </tr>\n",
       "    <tr>\n",
       "      <th>11684</th>\n",
       "      <td>2015-12-31 15:00:00</td>\n",
       "      <td>10001.683042</td>\n",
       "      <td>1255.968361</td>\n",
       "      <td>2065.875618</td>\n",
       "      <td>797.959780</td>\n",
       "      <td>11855.540651</td>\n",
       "      <td>3138.473636</td>\n",
       "      <td>5820.402679</td>\n",
       "      <td>1183.585632</td>\n",
       "      <td>36119.489399</td>\n",
       "      <td>30</td>\n",
       "      <td>83.39</td>\n",
       "      <td>6</td>\n",
       "      <td>950</td>\n",
       "      <td>2015-12-31 15:00:00</td>\n",
       "      <td>30</td>\n",
       "      <td>89.95</td>\n",
       "      <td>4</td>\n",
       "      <td>960</td>\n",
       "      <td>2015-12-31 15:00:00</td>\n",
       "    </tr>\n",
       "    <tr>\n",
       "      <th>11685</th>\n",
       "      <td>2015-12-31 18:00:00</td>\n",
       "      <td>10703.575699</td>\n",
       "      <td>1341.750663</td>\n",
       "      <td>2173.808470</td>\n",
       "      <td>868.636393</td>\n",
       "      <td>13411.928148</td>\n",
       "      <td>3340.356277</td>\n",
       "      <td>6312.753451</td>\n",
       "      <td>1229.206403</td>\n",
       "      <td>39382.015504</td>\n",
       "      <td>30</td>\n",
       "      <td>72.86</td>\n",
       "      <td>-2</td>\n",
       "      <td>950</td>\n",
       "      <td>2015-12-31 18:00:00</td>\n",
       "      <td>30</td>\n",
       "      <td>70.93</td>\n",
       "      <td>-2</td>\n",
       "      <td>960</td>\n",
       "      <td>2015-12-31 18:00:00</td>\n",
       "    </tr>\n",
       "    <tr>\n",
       "      <th>11686</th>\n",
       "      <td>2015-12-31 21:00:00</td>\n",
       "      <td>10117.139852</td>\n",
       "      <td>1314.445489</td>\n",
       "      <td>2179.300089</td>\n",
       "      <td>860.342391</td>\n",
       "      <td>13004.190739</td>\n",
       "      <td>3178.545879</td>\n",
       "      <td>6186.765392</td>\n",
       "      <td>1234.948091</td>\n",
       "      <td>38075.677924</td>\n",
       "      <td>30</td>\n",
       "      <td>80.98</td>\n",
       "      <td>-2</td>\n",
       "      <td>950</td>\n",
       "      <td>2015-12-31 21:00:00</td>\n",
       "      <td>30</td>\n",
       "      <td>73.10</td>\n",
       "      <td>-3</td>\n",
       "      <td>960</td>\n",
       "      <td>2015-12-31 21:00:00</td>\n",
       "    </tr>\n",
       "  </tbody>\n",
       "</table>\n",
       "<p>11687 rows × 20 columns</p>\n",
       "</div>"
      ],
      "text/plain": [
       "                 Hour_End         COAST         EAST     FAR_WEST       NORTH  \\\n",
       "0     2012-01-01 03:00:00   7337.789042   817.995707  1296.491345  631.940923   \n",
       "1     2012-01-01 06:00:00   6852.747302   883.708533  1329.677512  662.237775   \n",
       "2     2012-01-01 09:00:00   6855.467450  1023.689606  1385.977171  732.202793   \n",
       "3     2012-01-01 12:00:00   7693.585339   974.715669  1362.688806  713.185070   \n",
       "4     2012-01-01 15:00:00   7700.107915   921.311601  1302.391474  672.284213   \n",
       "...                   ...           ...          ...          ...         ...   \n",
       "11682 2015-12-31 09:00:00  10105.650088  1524.898001  2170.506827  942.371091   \n",
       "11683 2015-12-31 12:00:00  10303.961071  1396.724156  2118.313650  878.926194   \n",
       "11684 2015-12-31 15:00:00  10001.683042  1255.968361  2065.875618  797.959780   \n",
       "11685 2015-12-31 18:00:00  10703.575699  1341.750663  2173.808470  868.636393   \n",
       "11686 2015-12-31 21:00:00  10117.139852  1314.445489  2179.300089  860.342391   \n",
       "\n",
       "            NORTH_C     SOUTHERN      SOUTH_C         WEST         ERCOT  \\\n",
       "0       8461.317967  1961.909818  3946.994332   840.902848  25295.341984   \n",
       "1       8880.412604  1874.075024  4037.150795   892.341115  25412.350661   \n",
       "2      10033.068791  2087.598732  4570.655862  1009.202331  27697.862737   \n",
       "3       9879.117595  2307.264867  4765.119321   964.065395  28659.742062   \n",
       "4       9320.712487  2253.088829  4533.564483   895.595594  27599.056595   \n",
       "...             ...          ...          ...          ...           ...   \n",
       "11682  14767.295991  3049.009470  6589.495961  1366.707739  40515.935167   \n",
       "11683  13089.338839  3165.359246  6182.120369  1309.101953  38443.845478   \n",
       "11684  11855.540651  3138.473636  5820.402679  1183.585632  36119.489399   \n",
       "11685  13411.928148  3340.356277  6312.753451  1229.206403  39382.015504   \n",
       "11686  13004.190739  3178.545879  6186.765392  1234.948091  38075.677924   \n",
       "\n",
       "       Minute_w1  Relative Humidity_w1  Temperature_w1  Pressure_w1  \\\n",
       "0             30                 63.77               2          960   \n",
       "1             30                 79.76               0          960   \n",
       "2             30                 48.63               6          960   \n",
       "3             30                 25.26              12          960   \n",
       "4             30                 23.44              12          960   \n",
       "...          ...                   ...             ...          ...   \n",
       "11682         30                 95.18               4          950   \n",
       "11683         30                 86.81               7          950   \n",
       "11684         30                 83.39               6          950   \n",
       "11685         30                 72.86              -2          950   \n",
       "11686         30                 80.98              -2          950   \n",
       "\n",
       "              DateTime_w1  Minute_w3  Relative Humidity_w3  Temperature_w3  \\\n",
       "0     2012-01-01 03:00:00         30                 69.80               2   \n",
       "1     2012-01-01 06:00:00         30                 75.63               0   \n",
       "2     2012-01-01 09:00:00         30                 45.26               6   \n",
       "3     2012-01-01 12:00:00         30                 29.36              12   \n",
       "4     2012-01-01 15:00:00         30                 27.66              11   \n",
       "...                   ...        ...                   ...             ...   \n",
       "11682 2015-12-31 09:00:00         30                100.00               1   \n",
       "11683 2015-12-31 12:00:00         30                 96.39               4   \n",
       "11684 2015-12-31 15:00:00         30                 89.95               4   \n",
       "11685 2015-12-31 18:00:00         30                 70.93              -2   \n",
       "11686 2015-12-31 21:00:00         30                 73.10              -3   \n",
       "\n",
       "       Pressure_w3         DateTime_w3  \n",
       "0              960 2012-01-01 03:00:00  \n",
       "1              970 2012-01-01 06:00:00  \n",
       "2              970 2012-01-01 09:00:00  \n",
       "3              970 2012-01-01 12:00:00  \n",
       "4              970 2012-01-01 15:00:00  \n",
       "...            ...                 ...  \n",
       "11682          960 2015-12-31 09:00:00  \n",
       "11683          960 2015-12-31 12:00:00  \n",
       "11684          960 2015-12-31 15:00:00  \n",
       "11685          960 2015-12-31 18:00:00  \n",
       "11686          960 2015-12-31 21:00:00  \n",
       "\n",
       "[11687 rows x 20 columns]"
      ]
     },
     "execution_count": 9,
     "metadata": {},
     "output_type": "execute_result"
    }
   ],
   "source": [
    "merged_data"
   ]
  },
  {
   "cell_type": "code",
   "execution_count": 10,
   "id": "2a21f1f1-4e8c-4330-9d15-952655746441",
   "metadata": {},
   "outputs": [],
   "source": [
    "merged_data.rename(columns={'Temperature_w3': 'Temperature'}, inplace=True)"
   ]
  },
  {
   "cell_type": "code",
   "execution_count": 11,
   "id": "8e753e57-2305-4fb2-80d1-e34f0ef405a8",
   "metadata": {},
   "outputs": [
    {
     "data": {
      "text/html": [
       "<div>\n",
       "<style scoped>\n",
       "    .dataframe tbody tr th:only-of-type {\n",
       "        vertical-align: middle;\n",
       "    }\n",
       "\n",
       "    .dataframe tbody tr th {\n",
       "        vertical-align: top;\n",
       "    }\n",
       "\n",
       "    .dataframe thead th {\n",
       "        text-align: right;\n",
       "    }\n",
       "</style>\n",
       "<table border=\"1\" class=\"dataframe\">\n",
       "  <thead>\n",
       "    <tr style=\"text-align: right;\">\n",
       "      <th></th>\n",
       "      <th>Hour_End</th>\n",
       "      <th>COAST</th>\n",
       "      <th>EAST</th>\n",
       "      <th>FAR_WEST</th>\n",
       "      <th>NORTH</th>\n",
       "      <th>NORTH_C</th>\n",
       "      <th>SOUTHERN</th>\n",
       "      <th>SOUTH_C</th>\n",
       "      <th>WEST</th>\n",
       "      <th>ERCOT</th>\n",
       "      <th>Minute_w1</th>\n",
       "      <th>Relative Humidity_w1</th>\n",
       "      <th>Temperature_w1</th>\n",
       "      <th>Pressure_w1</th>\n",
       "      <th>DateTime_w1</th>\n",
       "      <th>Minute_w3</th>\n",
       "      <th>Relative Humidity_w3</th>\n",
       "      <th>Temperature</th>\n",
       "      <th>Pressure_w3</th>\n",
       "      <th>DateTime_w3</th>\n",
       "    </tr>\n",
       "  </thead>\n",
       "  <tbody>\n",
       "    <tr>\n",
       "      <th>0</th>\n",
       "      <td>2012-01-01 03:00:00</td>\n",
       "      <td>7337.789042</td>\n",
       "      <td>817.995707</td>\n",
       "      <td>1296.491345</td>\n",
       "      <td>631.940923</td>\n",
       "      <td>8461.317967</td>\n",
       "      <td>1961.909818</td>\n",
       "      <td>3946.994332</td>\n",
       "      <td>840.902848</td>\n",
       "      <td>25295.341984</td>\n",
       "      <td>30</td>\n",
       "      <td>63.77</td>\n",
       "      <td>2</td>\n",
       "      <td>960</td>\n",
       "      <td>2012-01-01 03:00:00</td>\n",
       "      <td>30</td>\n",
       "      <td>69.80</td>\n",
       "      <td>2</td>\n",
       "      <td>960</td>\n",
       "      <td>2012-01-01 03:00:00</td>\n",
       "    </tr>\n",
       "    <tr>\n",
       "      <th>1</th>\n",
       "      <td>2012-01-01 06:00:00</td>\n",
       "      <td>6852.747302</td>\n",
       "      <td>883.708533</td>\n",
       "      <td>1329.677512</td>\n",
       "      <td>662.237775</td>\n",
       "      <td>8880.412604</td>\n",
       "      <td>1874.075024</td>\n",
       "      <td>4037.150795</td>\n",
       "      <td>892.341115</td>\n",
       "      <td>25412.350661</td>\n",
       "      <td>30</td>\n",
       "      <td>79.76</td>\n",
       "      <td>0</td>\n",
       "      <td>960</td>\n",
       "      <td>2012-01-01 06:00:00</td>\n",
       "      <td>30</td>\n",
       "      <td>75.63</td>\n",
       "      <td>0</td>\n",
       "      <td>970</td>\n",
       "      <td>2012-01-01 06:00:00</td>\n",
       "    </tr>\n",
       "    <tr>\n",
       "      <th>2</th>\n",
       "      <td>2012-01-01 09:00:00</td>\n",
       "      <td>6855.467450</td>\n",
       "      <td>1023.689606</td>\n",
       "      <td>1385.977171</td>\n",
       "      <td>732.202793</td>\n",
       "      <td>10033.068791</td>\n",
       "      <td>2087.598732</td>\n",
       "      <td>4570.655862</td>\n",
       "      <td>1009.202331</td>\n",
       "      <td>27697.862737</td>\n",
       "      <td>30</td>\n",
       "      <td>48.63</td>\n",
       "      <td>6</td>\n",
       "      <td>960</td>\n",
       "      <td>2012-01-01 09:00:00</td>\n",
       "      <td>30</td>\n",
       "      <td>45.26</td>\n",
       "      <td>6</td>\n",
       "      <td>970</td>\n",
       "      <td>2012-01-01 09:00:00</td>\n",
       "    </tr>\n",
       "  </tbody>\n",
       "</table>\n",
       "</div>"
      ],
      "text/plain": [
       "             Hour_End        COAST         EAST     FAR_WEST       NORTH  \\\n",
       "0 2012-01-01 03:00:00  7337.789042   817.995707  1296.491345  631.940923   \n",
       "1 2012-01-01 06:00:00  6852.747302   883.708533  1329.677512  662.237775   \n",
       "2 2012-01-01 09:00:00  6855.467450  1023.689606  1385.977171  732.202793   \n",
       "\n",
       "        NORTH_C     SOUTHERN      SOUTH_C         WEST         ERCOT  \\\n",
       "0   8461.317967  1961.909818  3946.994332   840.902848  25295.341984   \n",
       "1   8880.412604  1874.075024  4037.150795   892.341115  25412.350661   \n",
       "2  10033.068791  2087.598732  4570.655862  1009.202331  27697.862737   \n",
       "\n",
       "   Minute_w1  Relative Humidity_w1  Temperature_w1  Pressure_w1  \\\n",
       "0         30                 63.77               2          960   \n",
       "1         30                 79.76               0          960   \n",
       "2         30                 48.63               6          960   \n",
       "\n",
       "          DateTime_w1  Minute_w3  Relative Humidity_w3  Temperature  \\\n",
       "0 2012-01-01 03:00:00         30                 69.80            2   \n",
       "1 2012-01-01 06:00:00         30                 75.63            0   \n",
       "2 2012-01-01 09:00:00         30                 45.26            6   \n",
       "\n",
       "   Pressure_w3         DateTime_w3  \n",
       "0          960 2012-01-01 03:00:00  \n",
       "1          970 2012-01-01 06:00:00  \n",
       "2          970 2012-01-01 09:00:00  "
      ]
     },
     "execution_count": 11,
     "metadata": {},
     "output_type": "execute_result"
    }
   ],
   "source": [
    "merged_data.head(3)"
   ]
  },
  {
   "cell_type": "markdown",
   "id": "3585850f-70cc-46d5-9260-dfef8973293c",
   "metadata": {},
   "source": [
    "## Normalizing the data"
   ]
  },
  {
   "cell_type": "code",
   "execution_count": 12,
   "id": "31fa882c-8e7b-41e5-8ad8-b71797f41593",
   "metadata": {},
   "outputs": [],
   "source": [
    "scaler = StandardScaler()\n",
    "load_scaled = scaler.fit_transform(merged_data['ERCOT'].values.reshape(-1, 1))\n",
    "temp_scaled = scaler.fit_transform(merged_data['Temperature'].values.reshape(-1, 1))"
   ]
  },
  {
   "cell_type": "code",
   "execution_count": 13,
   "id": "6b9d0eea-9c4e-45d2-b8f7-e7140c6a48b7",
   "metadata": {},
   "outputs": [
    {
     "data": {
      "text/plain": [
       "(11687, 1)"
      ]
     },
     "execution_count": 13,
     "metadata": {},
     "output_type": "execute_result"
    }
   ],
   "source": [
    "load_scaled.shape"
   ]
  },
  {
   "cell_type": "code",
   "execution_count": 14,
   "id": "193d50d2-93b7-41ab-b414-726f3497bdf9",
   "metadata": {},
   "outputs": [
    {
     "data": {
      "text/plain": [
       "(11687, 1)"
      ]
     },
     "execution_count": 14,
     "metadata": {},
     "output_type": "execute_result"
    }
   ],
   "source": [
    "temp_scaled.shape"
   ]
  },
  {
   "cell_type": "markdown",
   "id": "35e865d4-77d3-464f-9da2-dbea60315089",
   "metadata": {},
   "source": [
    "## Creating Input features"
   ]
  },
  {
   "cell_type": "code",
   "execution_count": 15,
   "id": "f865f301-76cc-4f10-95df-cd923278fd2f",
   "metadata": {},
   "outputs": [
    {
     "data": {
      "text/plain": [
       "((11686, 1, 1), (11686, 1))"
      ]
     },
     "execution_count": 15,
     "metadata": {},
     "output_type": "execute_result"
    }
   ],
   "source": [
    "def create_sequences(data, time_steps):\n",
    "    sequences = []\n",
    "    labels = []\n",
    "    \n",
    "    for i in range(len(data) - time_steps):\n",
    "        seq = data[i:(i + time_steps)]\n",
    "        label = data[i + time_steps]\n",
    "        sequences.append(seq)\n",
    "        labels.append(label)\n",
    "        \n",
    "    return np.array(sequences), np.array(labels)\n",
    "\n",
    "# Use the function\n",
    "time_steps = 1\n",
    "X, y = create_sequences(load_scaled, time_steps)\n",
    "X.shape , y.shape"
   ]
  },
  {
   "cell_type": "markdown",
   "id": "1dda9a55-0d4e-4d92-ac93-b2ea05bb870f",
   "metadata": {},
   "source": [
    "## Train/test split"
   ]
  },
  {
   "cell_type": "code",
   "execution_count": 16,
   "id": "fb388f98-b271-4456-993b-cfd6b400e4c8",
   "metadata": {},
   "outputs": [],
   "source": [
    "split = int(0.8 * len(X))\n",
    "X_train, X_test = X[:split], X[split:]\n",
    "y_train, y_test = y[:split], y[split:]"
   ]
  },
  {
   "cell_type": "markdown",
   "id": "f67745bf-4d95-4c8c-bb30-ba6e20a3b7e7",
   "metadata": {},
   "source": [
    "## Building the l ass tm model"
   ]
  },
  {
   "cell_type": "code",
   "execution_count": 17,
   "id": "9dbe25dd-f38a-41c6-94ad-1b1b6a870472",
   "metadata": {},
   "outputs": [
    {
     "name": "stderr",
     "output_type": "stream",
     "text": [
      "C:\\Users\\death\\AppData\\Roaming\\Python\\Python312\\site-packages\\keras\\src\\layers\\rnn\\rnn.py:204: UserWarning: Do not pass an `input_shape`/`input_dim` argument to a layer. When using Sequential models, prefer using an `Input(shape)` object as the first layer in the model instead.\n",
      "  super().__init__(**kwargs)\n"
     ]
    }
   ],
   "source": [
    "model = Sequential()\n",
    "model.add(LSTM(64, return_sequences=True, input_shape=(X_train.shape[1], 1)))\n",
    "model.add(Dropout(0.2))\n",
    "model.add(LSTM(50, return_sequences=False))\n",
    "model.add(Dropout(0.2))\n",
    "model.add(Dense(1))\n",
    "\n",
    "model.compile(optimizer='adam', loss='mean_squared_error')"
   ]
  },
  {
   "cell_type": "code",
   "execution_count": 18,
   "id": "ebcdd2f2-e097-4245-b82e-24eb2d90ada0",
   "metadata": {},
   "outputs": [
    {
     "name": "stdout",
     "output_type": "stream",
     "text": [
      "Epoch 1/20\n",
      "\u001b[1m293/293\u001b[0m \u001b[32m━━━━━━━━━━━━━━━━━━━━\u001b[0m\u001b[37m\u001b[0m \u001b[1m4s\u001b[0m 4ms/step - loss: 0.5537 - val_loss: 0.3215\n",
      "Epoch 2/20\n",
      "\u001b[1m293/293\u001b[0m \u001b[32m━━━━━━━━━━━━━━━━━━━━\u001b[0m\u001b[37m\u001b[0m \u001b[1m1s\u001b[0m 2ms/step - loss: 0.2709 - val_loss: 0.3301\n",
      "Epoch 3/20\n",
      "\u001b[1m293/293\u001b[0m \u001b[32m━━━━━━━━━━━━━━━━━━━━\u001b[0m\u001b[37m\u001b[0m \u001b[1m1s\u001b[0m 2ms/step - loss: 0.2680 - val_loss: 0.3201\n",
      "Epoch 4/20\n",
      "\u001b[1m293/293\u001b[0m \u001b[32m━━━━━━━━━━━━━━━━━━━━\u001b[0m\u001b[37m\u001b[0m \u001b[1m1s\u001b[0m 3ms/step - loss: 0.2732 - val_loss: 0.3296\n",
      "Epoch 5/20\n",
      "\u001b[1m293/293\u001b[0m \u001b[32m━━━━━━━━━━━━━━━━━━━━\u001b[0m\u001b[37m\u001b[0m \u001b[1m1s\u001b[0m 3ms/step - loss: 0.2705 - val_loss: 0.3237\n",
      "Epoch 6/20\n",
      "\u001b[1m293/293\u001b[0m \u001b[32m━━━━━━━━━━━━━━━━━━━━\u001b[0m\u001b[37m\u001b[0m \u001b[1m1s\u001b[0m 3ms/step - loss: 0.2648 - val_loss: 0.3225\n",
      "Epoch 7/20\n",
      "\u001b[1m293/293\u001b[0m \u001b[32m━━━━━━━━━━━━━━━━━━━━\u001b[0m\u001b[37m\u001b[0m \u001b[1m1s\u001b[0m 2ms/step - loss: 0.2695 - val_loss: 0.3334\n",
      "Epoch 8/20\n",
      "\u001b[1m293/293\u001b[0m \u001b[32m━━━━━━━━━━━━━━━━━━━━\u001b[0m\u001b[37m\u001b[0m \u001b[1m1s\u001b[0m 2ms/step - loss: 0.2708 - val_loss: 0.3248\n",
      "Epoch 9/20\n",
      "\u001b[1m293/293\u001b[0m \u001b[32m━━━━━━━━━━━━━━━━━━━━\u001b[0m\u001b[37m\u001b[0m \u001b[1m1s\u001b[0m 3ms/step - loss: 0.2679 - val_loss: 0.3230\n",
      "Epoch 10/20\n",
      "\u001b[1m293/293\u001b[0m \u001b[32m━━━━━━━━━━━━━━━━━━━━\u001b[0m\u001b[37m\u001b[0m \u001b[1m1s\u001b[0m 3ms/step - loss: 0.2669 - val_loss: 0.3300\n",
      "Epoch 11/20\n",
      "\u001b[1m293/293\u001b[0m \u001b[32m━━━━━━━━━━━━━━━━━━━━\u001b[0m\u001b[37m\u001b[0m \u001b[1m1s\u001b[0m 3ms/step - loss: 0.2630 - val_loss: 0.3267\n",
      "Epoch 12/20\n",
      "\u001b[1m293/293\u001b[0m \u001b[32m━━━━━━━━━━━━━━━━━━━━\u001b[0m\u001b[37m\u001b[0m \u001b[1m1s\u001b[0m 3ms/step - loss: 0.2704 - val_loss: 0.3220\n",
      "Epoch 13/20\n",
      "\u001b[1m293/293\u001b[0m \u001b[32m━━━━━━━━━━━━━━━━━━━━\u001b[0m\u001b[37m\u001b[0m \u001b[1m1s\u001b[0m 2ms/step - loss: 0.2654 - val_loss: 0.3192\n",
      "Epoch 14/20\n",
      "\u001b[1m293/293\u001b[0m \u001b[32m━━━━━━━━━━━━━━━━━━━━\u001b[0m\u001b[37m\u001b[0m \u001b[1m1s\u001b[0m 2ms/step - loss: 0.2703 - val_loss: 0.3241\n",
      "Epoch 15/20\n",
      "\u001b[1m293/293\u001b[0m \u001b[32m━━━━━━━━━━━━━━━━━━━━\u001b[0m\u001b[37m\u001b[0m \u001b[1m1s\u001b[0m 2ms/step - loss: 0.2724 - val_loss: 0.3331\n",
      "Epoch 16/20\n",
      "\u001b[1m293/293\u001b[0m \u001b[32m━━━━━━━━━━━━━━━━━━━━\u001b[0m\u001b[37m\u001b[0m \u001b[1m1s\u001b[0m 3ms/step - loss: 0.2642 - val_loss: 0.3210\n",
      "Epoch 17/20\n",
      "\u001b[1m293/293\u001b[0m \u001b[32m━━━━━━━━━━━━━━━━━━━━\u001b[0m\u001b[37m\u001b[0m \u001b[1m1s\u001b[0m 2ms/step - loss: 0.2626 - val_loss: 0.3212\n",
      "Epoch 18/20\n",
      "\u001b[1m293/293\u001b[0m \u001b[32m━━━━━━━━━━━━━━━━━━━━\u001b[0m\u001b[37m\u001b[0m \u001b[1m1s\u001b[0m 2ms/step - loss: 0.2735 - val_loss: 0.3195\n",
      "Epoch 19/20\n",
      "\u001b[1m293/293\u001b[0m \u001b[32m━━━━━━━━━━━━━━━━━━━━\u001b[0m\u001b[37m\u001b[0m \u001b[1m1s\u001b[0m 2ms/step - loss: 0.2665 - val_loss: 0.3197\n",
      "Epoch 20/20\n",
      "\u001b[1m293/293\u001b[0m \u001b[32m━━━━━━━━━━━━━━━━━━━━\u001b[0m\u001b[37m\u001b[0m \u001b[1m1s\u001b[0m 2ms/step - loss: 0.2705 - val_loss: 0.3196\n"
     ]
    }
   ],
   "source": [
    "history = model.fit(X_train, y_train, epochs=20, batch_size=32, validation_data=(X_test, y_test))"
   ]
  },
  {
   "cell_type": "code",
   "execution_count": 19,
   "id": "e65e8261-6988-4fca-b0e3-aed3922013ba",
   "metadata": {},
   "outputs": [
    {
     "name": "stdout",
     "output_type": "stream",
     "text": [
      "\u001b[1m74/74\u001b[0m \u001b[32m━━━━━━━━━━━━━━━━━━━━\u001b[0m\u001b[37m\u001b[0m \u001b[1m1s\u001b[0m 5ms/step\n"
     ]
    }
   ],
   "source": [
    "predictions = model.predict(X_test)\n"
   ]
  },
  {
   "cell_type": "code",
   "execution_count": 20,
   "id": "39417114-981d-43e9-8e61-d71d2b52f581",
   "metadata": {},
   "outputs": [],
   "source": [
    "predictions_inv = scaler.inverse_transform(predictions)\n",
    "y_test_inv = scaler.inverse_transform(y_test)"
   ]
  },
  {
   "cell_type": "code",
   "execution_count": 21,
   "id": "efff9593-394e-45de-aea8-c02c9043c20b",
   "metadata": {},
   "outputs": [
    {
     "name": "stdout",
     "output_type": "stream",
     "text": [
      "MAE: 4.67115841815344, RMSE: 5.869861038102909\n"
     ]
    }
   ],
   "source": [
    "mae = mean_absolute_error(y_test_inv, predictions_inv)\n",
    "rmse = np.sqrt(mean_squared_error(y_test_inv, predictions_inv))\n",
    "print(f'MAE: {mae}, RMSE: {rmse}')"
   ]
  },
  {
   "cell_type": "code",
   "execution_count": 22,
   "id": "aaeffc4f-cb62-4c05-ac19-dac6dab04780",
   "metadata": {},
   "outputs": [
    {
     "data": {
      "image/png": "[encoded data removed]",
      "text/plain": [
       "<Figure size 1000x600 with 1 Axes>"
      ]
     },
     "metadata": {},
     "output_type": "display_data"
    },
    {
     "name": "stdout",
     "output_type": "stream",
     "text": [
      "R² score: 0.7223374400865092\n"
     ]
    }
   ],
   "source": [
    "from sklearn.metrics import r2_score\n",
    "plt.figure(figsize=(10, 6))\n",
    "plt.plot(y_test_inv, label='Actual Load')\n",
    "plt.plot(predictions_inv, label='Predicted Load')\n",
    "plt.title('Load Forecasting')\n",
    "plt.legend()\n",
    "plt.show()\n",
    "r2 = r2_score(y_test_inv, predictions_inv)\n",
    "print(f'R² score: {r2}')"
   ]
  },
  {
   "cell_type": "code",
   "execution_count": null,
   "id": "1e7d5146",
   "metadata": {},
   "outputs": [],
   "source": []
  }
 ],
 "metadata": {
  "kernelspec": {
   "display_name": "Python 3",
   "language": "python",
   "name": "python3"
  },
  "language_info": {
   "codemirror_mode": {
    "name": "ipython",
    "version": 3
   },
   "file_extension": ".py",
   "mimetype": "text/x-python",
   "name": "python",
   "nbconvert_exporter": "python",
   "pygments_lexer": "ipython3",
   "version": "3.12.6"
  }
 },
 "nbformat": 4,
 "nbformat_minor": 5
}
